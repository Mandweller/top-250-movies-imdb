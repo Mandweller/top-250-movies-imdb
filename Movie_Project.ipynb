{
  "nbformat": 4,
  "nbformat_minor": 0,
  "metadata": {
    "colab": {
      "provenance": []
    },
    "kernelspec": {
      "name": "python3",
      "display_name": "Python 3"
    },
    "language_info": {
      "name": "python"
    }
  },
  "cells": [
    {
      "cell_type": "markdown",
      "source": [
        "Movie Scraping from IMDB using beautiful soup."
      ],
      "metadata": {
        "id": "K9r6qaxpS9JN"
      }
    },
    {
      "cell_type": "markdown",
      "source": [],
      "metadata": {
        "id": "r-Wz17-_dySt"
      }
    },
    {
      "cell_type": "markdown",
      "source": [
        "Importing libraries"
      ],
      "metadata": {
        "id": "pUEHmBGVdw8L"
      }
    },
    {
      "cell_type": "code",
      "execution_count": null,
      "metadata": {
        "id": "rwVDkbbaS6CO"
      },
      "outputs": [],
      "source": [
        "from bs4 import BeautifulSoup\n",
        "import requests\n",
        "import re\n",
        "import pandas as pd\n"
      ]
    },
    {
      "cell_type": "markdown",
      "source": [
        "Acquiring IMDB data"
      ],
      "metadata": {
        "id": "9fflR0TQd6Q0"
      }
    },
    {
      "cell_type": "code",
      "source": [
        "url = 'https://www.imdb.com/chart/top'\n",
        "response = requests.get(url)\n",
        "soup = BeautifulSoup(response.text, \"html.parser\")\n"
      ],
      "metadata": {
        "id": "od_fjVsPWtlx"
      },
      "execution_count": null,
      "outputs": []
    },
    {
      "cell_type": "markdown",
      "source": [
        "Extract data from HTML"
      ],
      "metadata": {
        "id": "uh6kgMn-lMXF"
      }
    },
    {
      "cell_type": "code",
      "source": [
        "\n",
        "movies = soup.select('td.titleColumn')\n",
        "crew = [a.attrs.get('title') for a in soup.select('td.titleColumn a')]\n",
        "ratings = [b.attrs.get('data-value')\n",
        "        for b in soup.select('td.posterColumn span[name=ir]')]\n",
        "\n",
        "movies"
      ],
      "metadata": {
        "id": "oqlZsgMSk7OY"
      },
      "execution_count": null,
      "outputs": []
    },
    {
      "cell_type": "markdown",
      "source": [
        "Storing information"
      ],
      "metadata": {
        "id": "1hFpBCb9p4r6"
      }
    },
    {
      "cell_type": "code",
      "source": [],
      "metadata": {
        "id": "S1hnhMSbthFQ"
      },
      "execution_count": null,
      "outputs": []
    },
    {
      "cell_type": "code",
      "source": [
        "#create empty list to store data\n",
        "list = []\n",
        "\n",
        "#go over object 'movies' to extract details\n",
        "\n",
        "for index in range(0, len(movies)):\n",
        "\n",
        "  #extract text from 'movie'\n",
        "  movie_string = movies[index].get_text()\n",
        "\n",
        "  #split string into individual words, removes punctuation and reorder them.\n",
        "  movie = (' '.join(movie_string.split()).replace('.', ''))\n",
        "\n",
        "  #extracts movie title from string\n",
        "  movie_title = movie[len(str(index))+1:-7]\n",
        "\n",
        "\n",
        "  year = re.search('\\((.*?)\\)', movie_string).group(1)\n",
        "\n",
        "  place = movie[:len(str(index))-(len(movie))]\n",
        "\n",
        "  data = {\"place\": place,\n",
        "            \"movie_title\": movie_title,\n",
        "            \"rating\": ratings[index],\n",
        "            \"year\": year,\n",
        "            \"star_cast\": crew[index],\n",
        "            }\n",
        "  list.append(data)\n"
      ],
      "metadata": {
        "id": "1JNlW-mkoqh2"
      },
      "execution_count": 14,
      "outputs": []
    },
    {
      "cell_type": "markdown",
      "source": [
        "Print movie details with rating"
      ],
      "metadata": {
        "id": "RXBc0-170AFO"
      }
    },
    {
      "cell_type": "code",
      "source": [
        "for movie in list:\n",
        "    print(movie['place'],\n",
        "          '-', movie['movie_title'],\n",
        "          '('+movie['year'] +') -', \n",
        "          'Starring:', \n",
        "          movie['star_cast'],\n",
        "          movie['rating'])\n",
        " "
      ],
      "metadata": {
        "id": "XRD_PiQcz2CQ"
      },
      "execution_count": null,
      "outputs": []
    },
    {
      "cell_type": "code",
      "source": [
        "#export as csv\n",
        "\n",
        "df = pd.DataFrame(list)\n",
        "df.to_csv('imdb_top_250_movies.csv',index=False)"
      ],
      "metadata": {
        "id": "Tofo4cfI0sWK"
      },
      "execution_count": 16,
      "outputs": []
    },
    {
      "cell_type": "code",
      "source": [
        "df"
      ],
      "metadata": {
        "colab": {
          "base_uri": "https://localhost:8080/",
          "height": 641
        },
        "id": "FAvWLSB81IBu",
        "outputId": "3386084a-e81f-4b75-f0ee-182690521de2"
      },
      "execution_count": 18,
      "outputs": [
        {
          "output_type": "execute_result",
          "data": {
            "text/plain": [
              "    place               movie_title             rating  year  \\\n",
              "0       1  The Shawshank Redemption  9.236066782654824  1994   \n",
              "1       2             The Godfather  9.155654535572937  1972   \n",
              "2       3           The Dark Knight  8.992755877483987  2008   \n",
              "3       4     The Godfather Part II  8.983836482331586  1974   \n",
              "4       5              12 Angry Men  8.954276017038527  1957   \n",
              "..    ...                       ...                ...   ...   \n",
              "245   246            The Iron Giant  8.006740203552987  1999   \n",
              "246   247                  The Help  8.006108311579624  2011   \n",
              "247   248                   Aladdin  8.003692449280804  1992   \n",
              "248   249      John Wick: Chapter 4  8.002941425288222  2023   \n",
              "249   250        Dances with Wolves  8.002082111611939  1990   \n",
              "\n",
              "                                             star_cast  \n",
              "0    Frank Darabont (dir.), Tim Robbins, Morgan Fre...  \n",
              "1    Francis Ford Coppola (dir.), Marlon Brando, Al...  \n",
              "2    Christopher Nolan (dir.), Christian Bale, Heat...  \n",
              "3    Francis Ford Coppola (dir.), Al Pacino, Robert...  \n",
              "4        Sidney Lumet (dir.), Henry Fonda, Lee J. Cobb  \n",
              "..                                                 ...  \n",
              "245  Brad Bird (dir.), Eli Marienthal, Harry Connic...  \n",
              "246        Tate Taylor (dir.), Viola Davis, Emma Stone  \n",
              "247  Ron Clements (dir.), Scott Weinger, Robin Will...  \n",
              "248  Chad Stahelski (dir.), Keanu Reeves, Laurence ...  \n",
              "249  Kevin Costner (dir.), Kevin Costner, Mary McDo...  \n",
              "\n",
              "[250 rows x 5 columns]"
            ],
            "text/html": [
              "\n",
              "  <div id=\"df-8dda0bd8-77dd-4112-bb73-91ee0952e7ce\">\n",
              "    <div class=\"colab-df-container\">\n",
              "      <div>\n",
              "<style scoped>\n",
              "    .dataframe tbody tr th:only-of-type {\n",
              "        vertical-align: middle;\n",
              "    }\n",
              "\n",
              "    .dataframe tbody tr th {\n",
              "        vertical-align: top;\n",
              "    }\n",
              "\n",
              "    .dataframe thead th {\n",
              "        text-align: right;\n",
              "    }\n",
              "</style>\n",
              "<table border=\"1\" class=\"dataframe\">\n",
              "  <thead>\n",
              "    <tr style=\"text-align: right;\">\n",
              "      <th></th>\n",
              "      <th>place</th>\n",
              "      <th>movie_title</th>\n",
              "      <th>rating</th>\n",
              "      <th>year</th>\n",
              "      <th>star_cast</th>\n",
              "    </tr>\n",
              "  </thead>\n",
              "  <tbody>\n",
              "    <tr>\n",
              "      <th>0</th>\n",
              "      <td>1</td>\n",
              "      <td>The Shawshank Redemption</td>\n",
              "      <td>9.236066782654824</td>\n",
              "      <td>1994</td>\n",
              "      <td>Frank Darabont (dir.), Tim Robbins, Morgan Fre...</td>\n",
              "    </tr>\n",
              "    <tr>\n",
              "      <th>1</th>\n",
              "      <td>2</td>\n",
              "      <td>The Godfather</td>\n",
              "      <td>9.155654535572937</td>\n",
              "      <td>1972</td>\n",
              "      <td>Francis Ford Coppola (dir.), Marlon Brando, Al...</td>\n",
              "    </tr>\n",
              "    <tr>\n",
              "      <th>2</th>\n",
              "      <td>3</td>\n",
              "      <td>The Dark Knight</td>\n",
              "      <td>8.992755877483987</td>\n",
              "      <td>2008</td>\n",
              "      <td>Christopher Nolan (dir.), Christian Bale, Heat...</td>\n",
              "    </tr>\n",
              "    <tr>\n",
              "      <th>3</th>\n",
              "      <td>4</td>\n",
              "      <td>The Godfather Part II</td>\n",
              "      <td>8.983836482331586</td>\n",
              "      <td>1974</td>\n",
              "      <td>Francis Ford Coppola (dir.), Al Pacino, Robert...</td>\n",
              "    </tr>\n",
              "    <tr>\n",
              "      <th>4</th>\n",
              "      <td>5</td>\n",
              "      <td>12 Angry Men</td>\n",
              "      <td>8.954276017038527</td>\n",
              "      <td>1957</td>\n",
              "      <td>Sidney Lumet (dir.), Henry Fonda, Lee J. Cobb</td>\n",
              "    </tr>\n",
              "    <tr>\n",
              "      <th>...</th>\n",
              "      <td>...</td>\n",
              "      <td>...</td>\n",
              "      <td>...</td>\n",
              "      <td>...</td>\n",
              "      <td>...</td>\n",
              "    </tr>\n",
              "    <tr>\n",
              "      <th>245</th>\n",
              "      <td>246</td>\n",
              "      <td>The Iron Giant</td>\n",
              "      <td>8.006740203552987</td>\n",
              "      <td>1999</td>\n",
              "      <td>Brad Bird (dir.), Eli Marienthal, Harry Connic...</td>\n",
              "    </tr>\n",
              "    <tr>\n",
              "      <th>246</th>\n",
              "      <td>247</td>\n",
              "      <td>The Help</td>\n",
              "      <td>8.006108311579624</td>\n",
              "      <td>2011</td>\n",
              "      <td>Tate Taylor (dir.), Viola Davis, Emma Stone</td>\n",
              "    </tr>\n",
              "    <tr>\n",
              "      <th>247</th>\n",
              "      <td>248</td>\n",
              "      <td>Aladdin</td>\n",
              "      <td>8.003692449280804</td>\n",
              "      <td>1992</td>\n",
              "      <td>Ron Clements (dir.), Scott Weinger, Robin Will...</td>\n",
              "    </tr>\n",
              "    <tr>\n",
              "      <th>248</th>\n",
              "      <td>249</td>\n",
              "      <td>John Wick: Chapter 4</td>\n",
              "      <td>8.002941425288222</td>\n",
              "      <td>2023</td>\n",
              "      <td>Chad Stahelski (dir.), Keanu Reeves, Laurence ...</td>\n",
              "    </tr>\n",
              "    <tr>\n",
              "      <th>249</th>\n",
              "      <td>250</td>\n",
              "      <td>Dances with Wolves</td>\n",
              "      <td>8.002082111611939</td>\n",
              "      <td>1990</td>\n",
              "      <td>Kevin Costner (dir.), Kevin Costner, Mary McDo...</td>\n",
              "    </tr>\n",
              "  </tbody>\n",
              "</table>\n",
              "<p>250 rows × 5 columns</p>\n",
              "</div>\n",
              "      <button class=\"colab-df-convert\" onclick=\"convertToInteractive('df-8dda0bd8-77dd-4112-bb73-91ee0952e7ce')\"\n",
              "              title=\"Convert this dataframe to an interactive table.\"\n",
              "              style=\"display:none;\">\n",
              "        \n",
              "  <svg xmlns=\"http://www.w3.org/2000/svg\" height=\"24px\"viewBox=\"0 0 24 24\"\n",
              "       width=\"24px\">\n",
              "    <path d=\"M0 0h24v24H0V0z\" fill=\"none\"/>\n",
              "    <path d=\"M18.56 5.44l.94 2.06.94-2.06 2.06-.94-2.06-.94-.94-2.06-.94 2.06-2.06.94zm-11 1L8.5 8.5l.94-2.06 2.06-.94-2.06-.94L8.5 2.5l-.94 2.06-2.06.94zm10 10l.94 2.06.94-2.06 2.06-.94-2.06-.94-.94-2.06-.94 2.06-2.06.94z\"/><path d=\"M17.41 7.96l-1.37-1.37c-.4-.4-.92-.59-1.43-.59-.52 0-1.04.2-1.43.59L10.3 9.45l-7.72 7.72c-.78.78-.78 2.05 0 2.83L4 21.41c.39.39.9.59 1.41.59.51 0 1.02-.2 1.41-.59l7.78-7.78 2.81-2.81c.8-.78.8-2.07 0-2.86zM5.41 20L4 18.59l7.72-7.72 1.47 1.35L5.41 20z\"/>\n",
              "  </svg>\n",
              "      </button>\n",
              "      \n",
              "  <style>\n",
              "    .colab-df-container {\n",
              "      display:flex;\n",
              "      flex-wrap:wrap;\n",
              "      gap: 12px;\n",
              "    }\n",
              "\n",
              "    .colab-df-convert {\n",
              "      background-color: #E8F0FE;\n",
              "      border: none;\n",
              "      border-radius: 50%;\n",
              "      cursor: pointer;\n",
              "      display: none;\n",
              "      fill: #1967D2;\n",
              "      height: 32px;\n",
              "      padding: 0 0 0 0;\n",
              "      width: 32px;\n",
              "    }\n",
              "\n",
              "    .colab-df-convert:hover {\n",
              "      background-color: #E2EBFA;\n",
              "      box-shadow: 0px 1px 2px rgba(60, 64, 67, 0.3), 0px 1px 3px 1px rgba(60, 64, 67, 0.15);\n",
              "      fill: #174EA6;\n",
              "    }\n",
              "\n",
              "    [theme=dark] .colab-df-convert {\n",
              "      background-color: #3B4455;\n",
              "      fill: #D2E3FC;\n",
              "    }\n",
              "\n",
              "    [theme=dark] .colab-df-convert:hover {\n",
              "      background-color: #434B5C;\n",
              "      box-shadow: 0px 1px 3px 1px rgba(0, 0, 0, 0.15);\n",
              "      filter: drop-shadow(0px 1px 2px rgba(0, 0, 0, 0.3));\n",
              "      fill: #FFFFFF;\n",
              "    }\n",
              "  </style>\n",
              "\n",
              "      <script>\n",
              "        const buttonEl =\n",
              "          document.querySelector('#df-8dda0bd8-77dd-4112-bb73-91ee0952e7ce button.colab-df-convert');\n",
              "        buttonEl.style.display =\n",
              "          google.colab.kernel.accessAllowed ? 'block' : 'none';\n",
              "\n",
              "        async function convertToInteractive(key) {\n",
              "          const element = document.querySelector('#df-8dda0bd8-77dd-4112-bb73-91ee0952e7ce');\n",
              "          const dataTable =\n",
              "            await google.colab.kernel.invokeFunction('convertToInteractive',\n",
              "                                                     [key], {});\n",
              "          if (!dataTable) return;\n",
              "\n",
              "          const docLinkHtml = 'Like what you see? Visit the ' +\n",
              "            '<a target=\"_blank\" href=https://colab.research.google.com/notebooks/data_table.ipynb>data table notebook</a>'\n",
              "            + ' to learn more about interactive tables.';\n",
              "          element.innerHTML = '';\n",
              "          dataTable['output_type'] = 'display_data';\n",
              "          await google.colab.output.renderOutput(dataTable, element);\n",
              "          const docLink = document.createElement('div');\n",
              "          docLink.innerHTML = docLinkHtml;\n",
              "          element.appendChild(docLink);\n",
              "        }\n",
              "      </script>\n",
              "    </div>\n",
              "  </div>\n",
              "  "
            ]
          },
          "metadata": {},
          "execution_count": 18
        }
      ]
    }
  ]
}